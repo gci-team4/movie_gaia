{
 "cells": [
  {
   "cell_type": "markdown",
   "metadata": {
    "collapsed": true
   },
   "source": [
    "## castデータベースを作成します"
   ]
  },
  {
   "cell_type": "code",
   "execution_count": 1,
   "metadata": {
    "collapsed": true
   },
   "outputs": [],
   "source": [
    "import pandas as pd\n",
    "import numpy as np\n",
    "\n",
    "credits_url = \"./data/credits.csv\""
   ]
  },
  {
   "cell_type": "code",
   "execution_count": 2,
   "metadata": {
    "collapsed": true
   },
   "outputs": [],
   "source": [
    "## データフレーム中のstringをキャスト(dict型)のリストに変換する\n",
    "def make_list_from_str(string):\n",
    "    if isinstance(string, str):\n",
    "        result_list = eval(string)\n",
    "    else:\n",
    "        result_list = np.nan\n",
    "    return result_list"
   ]
  },
  {
   "cell_type": "markdown",
   "metadata": {},
   "source": [
    "#### credits.csvの読み込み＆型変換"
   ]
  },
  {
   "cell_type": "code",
   "execution_count": 3,
   "metadata": {
    "scrolled": true
   },
   "outputs": [
    {
     "name": "stdout",
     "output_type": "stream",
     "text": [
      "<class 'str'> 　　　　castについて、str型をlist型に・・・\n",
      "<class 'list'> 　　　　cast完了\n",
      "\n",
      "<class 'str'> 　　　　crewについて、str型をlist型に・・・\n",
      "<class 'list'> 　　　　crew完了\n",
      "\n"
     ]
    },
    {
     "data": {
      "text/html": [
       "<div>\n",
       "<style>\n",
       "    .dataframe thead tr:only-child th {\n",
       "        text-align: right;\n",
       "    }\n",
       "\n",
       "    .dataframe thead th {\n",
       "        text-align: left;\n",
       "    }\n",
       "\n",
       "    .dataframe tbody tr th {\n",
       "        vertical-align: top;\n",
       "    }\n",
       "</style>\n",
       "<table border=\"1\" class=\"dataframe\">\n",
       "  <thead>\n",
       "    <tr style=\"text-align: right;\">\n",
       "      <th></th>\n",
       "      <th>cast</th>\n",
       "      <th>crew</th>\n",
       "      <th>id</th>\n",
       "    </tr>\n",
       "  </thead>\n",
       "  <tbody>\n",
       "    <tr>\n",
       "      <th>0</th>\n",
       "      <td>[{'cast_id': 14, 'character': 'Woody (voice)',...</td>\n",
       "      <td>[{'credit_id': '52fe4284c3a36847f8024f49', 'de...</td>\n",
       "      <td>862</td>\n",
       "    </tr>\n",
       "    <tr>\n",
       "      <th>1</th>\n",
       "      <td>[{'cast_id': 1, 'character': 'Alan Parrish', '...</td>\n",
       "      <td>[{'credit_id': '52fe44bfc3a36847f80a7cd1', 'de...</td>\n",
       "      <td>8844</td>\n",
       "    </tr>\n",
       "    <tr>\n",
       "      <th>2</th>\n",
       "      <td>[{'cast_id': 2, 'character': 'Max Goldman', 'c...</td>\n",
       "      <td>[{'credit_id': '52fe466a9251416c75077a89', 'de...</td>\n",
       "      <td>15602</td>\n",
       "    </tr>\n",
       "    <tr>\n",
       "      <th>3</th>\n",
       "      <td>[{'cast_id': 1, 'character': 'Savannah 'Vannah...</td>\n",
       "      <td>[{'credit_id': '52fe44779251416c91011acb', 'de...</td>\n",
       "      <td>31357</td>\n",
       "    </tr>\n",
       "    <tr>\n",
       "      <th>4</th>\n",
       "      <td>[{'cast_id': 1, 'character': 'George Banks', '...</td>\n",
       "      <td>[{'credit_id': '52fe44959251416c75039ed7', 'de...</td>\n",
       "      <td>11862</td>\n",
       "    </tr>\n",
       "  </tbody>\n",
       "</table>\n",
       "</div>"
      ],
      "text/plain": [
       "                                                cast  \\\n",
       "0  [{'cast_id': 14, 'character': 'Woody (voice)',...   \n",
       "1  [{'cast_id': 1, 'character': 'Alan Parrish', '...   \n",
       "2  [{'cast_id': 2, 'character': 'Max Goldman', 'c...   \n",
       "3  [{'cast_id': 1, 'character': 'Savannah 'Vannah...   \n",
       "4  [{'cast_id': 1, 'character': 'George Banks', '...   \n",
       "\n",
       "                                                crew     id  \n",
       "0  [{'credit_id': '52fe4284c3a36847f8024f49', 'de...    862  \n",
       "1  [{'credit_id': '52fe44bfc3a36847f80a7cd1', 'de...   8844  \n",
       "2  [{'credit_id': '52fe466a9251416c75077a89', 'de...  15602  \n",
       "3  [{'credit_id': '52fe44779251416c91011acb', 'de...  31357  \n",
       "4  [{'credit_id': '52fe44959251416c75039ed7', 'de...  11862  "
      ]
     },
     "execution_count": 3,
     "metadata": {},
     "output_type": "execute_result"
    }
   ],
   "source": [
    "credits_df = pd.read_csv(credits_url)\n",
    "\n",
    "print(type(credits_df.cast[0]), \"　　　　castについて、str型をlist型に・・・\")\n",
    "credits_df.cast = credits_df.cast.map(make_list_from_str)\n",
    "print(type(credits_df.cast[0]), \"　　　　cast完了\\n\")\n",
    "\n",
    "print(type(credits_df.crew[0]), \"　　　　crewについて、str型をlist型に・・・\")\n",
    "credits_df.crew = credits_df.crew.map(make_list_from_str)\n",
    "print(type(credits_df.crew[0]), \"　　　　crew完了\\n\")\n",
    "\n",
    "credits_df = credits_df.dropna()\n",
    "credits_df.head()"
   ]
  },
  {
   "cell_type": "markdown",
   "metadata": {},
   "source": [
    "#### cast列について"
   ]
  },
  {
   "cell_type": "code",
   "execution_count": 5,
   "metadata": {
    "scrolled": true
   },
   "outputs": [
    {
     "name": "stdout",
     "output_type": "stream",
     "text": [
      "2000 movies out of  45476  finished.\n",
      "4000 movies out of  45476  finished.\n",
      "6000 movies out of  45476  finished.\n",
      "8000 movies out of  45476  finished.\n",
      "10000 movies out of  45476  finished.\n",
      "12000 movies out of  45476  finished.\n",
      "14000 movies out of  45476  finished.\n",
      "16000 movies out of  45476  finished.\n",
      "18000 movies out of  45476  finished.\n",
      "20000 movies out of  45476  finished.\n",
      "22000 movies out of  45476  finished.\n",
      "24000 movies out of  45476  finished.\n",
      "26000 movies out of  45476  finished.\n",
      "28000 movies out of  45476  finished.\n",
      "30000 movies out of  45476  finished.\n",
      "32000 movies out of  45476  finished.\n",
      "34000 movies out of  45476  finished.\n",
      "36000 movies out of  45476  finished.\n",
      "38000 movies out of  45476  finished.\n",
      "40000 movies out of  45476  finished.\n",
      "42000 movies out of  45476  finished.\n",
      "44000 movies out of  45476  finished.\n",
      "finished.\n"
     ]
    }
   ],
   "source": [
    "#cast列をリストに\n",
    "\n",
    "movies_cast_list = credits_df[\"cast\"].tolist()\n",
    "\n",
    "#castのidとnameを取り出し、重複するものはcountしておく\n",
    "\n",
    "castid_list = []\n",
    "castname_list = []\n",
    "castcount_dict = {}\n",
    "\n",
    "movie_count = 0\n",
    "\n",
    "for movie_cast in movies_cast_list:\n",
    "    for cast in movie_cast:\n",
    "        if cast[\"id\"] not in castid_list:\n",
    "            castid_list.append(cast[\"id\"])\n",
    "            castname_list.append(cast[\"name\"])\n",
    "            castcount_dict[cast[\"id\"]] = 1\n",
    "        else:\n",
    "            castcount_dict[cast[\"id\"]] += 1\n",
    "    \n",
    "    movie_count += 1\n",
    "    if movie_count % 2000 == 0:\n",
    "        print(movie_count, \"movies out of \", len(movies_cast_list), \" finished.\")\n",
    "\n",
    "print(\"finished.\")\n",
    "        \n",
    "castcount_list = list(castcount_dict.values())"
   ]
  },
  {
   "cell_type": "code",
   "execution_count": 7,
   "metadata": {
    "collapsed": true
   },
   "outputs": [],
   "source": [
    "castcount_list = list(castcount_dict.values())"
   ]
  },
  {
   "cell_type": "code",
   "execution_count": 8,
   "metadata": {},
   "outputs": [
    {
     "name": "stdout",
     "output_type": "stream",
     "text": [
      "[id]\n",
      "[31, 12898, 7167, 12899, 12900, 7907, 8873, 1116442, 12901, 12133] \n",
      "\n",
      "[name]\n",
      "['Tom Hanks', 'Tim Allen', 'Don Rickles', 'Jim Varney', 'Wallace Shawn', 'John Ratzenberger', 'Annie Potts', 'John Morris', 'Erik von Detten', 'Laurie Metcalf'] \n",
      "\n",
      "[count]\n",
      "[72, 29, 29, 20, 75, 46, 15, 3, 11, 25]\n"
     ]
    }
   ],
   "source": [
    "print(\"[id]\")\n",
    "print(castid_list[0:10], \"\\n\")\n",
    "print(\"[name]\")\n",
    "print(castname_list[0:10], \"\\n\")\n",
    "print(\"[count]\")\n",
    "print(castcount_list[0:10])"
   ]
  },
  {
   "cell_type": "code",
   "execution_count": 9,
   "metadata": {},
   "outputs": [
    {
     "data": {
      "text/html": [
       "<div>\n",
       "<style>\n",
       "    .dataframe thead tr:only-child th {\n",
       "        text-align: right;\n",
       "    }\n",
       "\n",
       "    .dataframe thead th {\n",
       "        text-align: left;\n",
       "    }\n",
       "\n",
       "    .dataframe tbody tr th {\n",
       "        vertical-align: top;\n",
       "    }\n",
       "</style>\n",
       "<table border=\"1\" class=\"dataframe\">\n",
       "  <thead>\n",
       "    <tr style=\"text-align: right;\">\n",
       "      <th></th>\n",
       "      <th>appearance</th>\n",
       "      <th>id</th>\n",
       "      <th>name</th>\n",
       "    </tr>\n",
       "  </thead>\n",
       "  <tbody>\n",
       "    <tr>\n",
       "      <th>0</th>\n",
       "      <td>72</td>\n",
       "      <td>31</td>\n",
       "      <td>Tom Hanks</td>\n",
       "    </tr>\n",
       "    <tr>\n",
       "      <th>1</th>\n",
       "      <td>29</td>\n",
       "      <td>12898</td>\n",
       "      <td>Tim Allen</td>\n",
       "    </tr>\n",
       "    <tr>\n",
       "      <th>2</th>\n",
       "      <td>29</td>\n",
       "      <td>7167</td>\n",
       "      <td>Don Rickles</td>\n",
       "    </tr>\n",
       "    <tr>\n",
       "      <th>3</th>\n",
       "      <td>20</td>\n",
       "      <td>12899</td>\n",
       "      <td>Jim Varney</td>\n",
       "    </tr>\n",
       "    <tr>\n",
       "      <th>4</th>\n",
       "      <td>75</td>\n",
       "      <td>12900</td>\n",
       "      <td>Wallace Shawn</td>\n",
       "    </tr>\n",
       "  </tbody>\n",
       "</table>\n",
       "</div>"
      ],
      "text/plain": [
       "   appearance     id           name\n",
       "0          72     31      Tom Hanks\n",
       "1          29  12898      Tim Allen\n",
       "2          29   7167    Don Rickles\n",
       "3          20  12899     Jim Varney\n",
       "4          75  12900  Wallace Shawn"
      ]
     },
     "execution_count": 9,
     "metadata": {},
     "output_type": "execute_result"
    }
   ],
   "source": [
    "##データフレームの生成\n",
    "\n",
    "actors_dict = {\"id\" : castid_list, \"name\" : castname_list, \"appearance\" : castcount_list}\n",
    "actors_df = pd.DataFrame.from_dict(actors_dict)\n",
    "actors_df.head()"
   ]
  },
  {
   "cell_type": "code",
   "execution_count": 10,
   "metadata": {
    "scrolled": true
   },
   "outputs": [
    {
     "name": "stderr",
     "output_type": "stream",
     "text": [
      "/Users/labuser/.pyenv/versions/anaconda3-4.4.0/lib/python3.6/site-packages/ipykernel_launcher.py:1: DeprecationWarning: \n",
      ".ix is deprecated. Please use\n",
      ".loc for label based indexing or\n",
      ".iloc for positional indexing\n",
      "\n",
      "See the documentation here:\n",
      "http://pandas.pydata.org/pandas-docs/stable/indexing.html#deprecate_ix\n",
      "  \"\"\"Entry point for launching an IPython kernel.\n"
     ]
    }
   ],
   "source": [
    "actors_df = actors_df.ix[:,['name','id','appearance']]"
   ]
  },
  {
   "cell_type": "code",
   "execution_count": 12,
   "metadata": {},
   "outputs": [
    {
     "data": {
      "text/html": [
       "<div>\n",
       "<style>\n",
       "    .dataframe thead tr:only-child th {\n",
       "        text-align: right;\n",
       "    }\n",
       "\n",
       "    .dataframe thead th {\n",
       "        text-align: left;\n",
       "    }\n",
       "\n",
       "    .dataframe tbody tr th {\n",
       "        vertical-align: top;\n",
       "    }\n",
       "</style>\n",
       "<table border=\"1\" class=\"dataframe\">\n",
       "  <thead>\n",
       "    <tr style=\"text-align: right;\">\n",
       "      <th></th>\n",
       "      <th>name</th>\n",
       "      <th>id</th>\n",
       "      <th>appearance</th>\n",
       "    </tr>\n",
       "  </thead>\n",
       "  <tbody>\n",
       "    <tr>\n",
       "      <th>0</th>\n",
       "      <td>Tom Hanks</td>\n",
       "      <td>31</td>\n",
       "      <td>72</td>\n",
       "    </tr>\n",
       "    <tr>\n",
       "      <th>1</th>\n",
       "      <td>Tim Allen</td>\n",
       "      <td>12898</td>\n",
       "      <td>29</td>\n",
       "    </tr>\n",
       "    <tr>\n",
       "      <th>2</th>\n",
       "      <td>Don Rickles</td>\n",
       "      <td>7167</td>\n",
       "      <td>29</td>\n",
       "    </tr>\n",
       "    <tr>\n",
       "      <th>3</th>\n",
       "      <td>Jim Varney</td>\n",
       "      <td>12899</td>\n",
       "      <td>20</td>\n",
       "    </tr>\n",
       "    <tr>\n",
       "      <th>4</th>\n",
       "      <td>Wallace Shawn</td>\n",
       "      <td>12900</td>\n",
       "      <td>75</td>\n",
       "    </tr>\n",
       "  </tbody>\n",
       "</table>\n",
       "</div>"
      ],
      "text/plain": [
       "            name     id  appearance\n",
       "0      Tom Hanks     31          72\n",
       "1      Tim Allen  12898          29\n",
       "2    Don Rickles   7167          29\n",
       "3     Jim Varney  12899          20\n",
       "4  Wallace Shawn  12900          75"
      ]
     },
     "execution_count": 12,
     "metadata": {},
     "output_type": "execute_result"
    }
   ],
   "source": [
    "actors_df.head()"
   ]
  },
  {
   "cell_type": "code",
   "execution_count": null,
   "metadata": {
    "collapsed": true
   },
   "outputs": [],
   "source": [
    "##csv書き出し\n",
    "actors_df.to_csv(\"actors.csv\")"
   ]
  },
  {
   "cell_type": "markdown",
   "metadata": {},
   "source": [
    "おまけ"
   ]
  },
  {
   "cell_type": "markdown",
   "metadata": {},
   "source": [
    "#### crew(directorなど)について"
   ]
  },
  {
   "cell_type": "code",
   "execution_count": null,
   "metadata": {
    "collapsed": true
   },
   "outputs": [],
   "source": [
    "crew_list = credits_df[\"crew\"].tolist()\n",
    "crewjob_list = []\n",
    "crewjob_dict = {}\n",
    "directorid_list = []\n",
    "directorname_list = []\n",
    "directorid_dict = {}\n",
    "\n",
    "movie_count = 0\n",
    "for movie in crew_list:\n",
    "    for crew in movie:\n",
    "        if crew[\"job\"] not in crewjob_list:\n",
    "            crewjob_list.append(crew[\"job\"])\n",
    "            crewjob_dict[crew[\"job\"]] = 1\n",
    "        else:\n",
    "            crewjob_dict[crew[\"job\"]] += 1\n",
    "        \n",
    "        if crew[\"job\"] == \"Director\":\n",
    "            if crew[\"id\"] not in directorid_list:\n",
    "                directorid_list.append(crew[\"id\"])\n",
    "                directorname_list.append(crew[\"name\"])\n",
    "                directorid_dict[crew[\"id\"]] = 1\n",
    "                if movie_count == 0:\n",
    "                    print(crew[\"id\"], \": \", crew[\"name\"])\n",
    "            else:\n",
    "                directorid_dict[crew[\"id\"]] += 1\n",
    " \n",
    "    movie_count += 1\n",
    "    if movie_count % 1000 == 0:\n",
    "        print(movie_count, \"movies out of \", len(crew_list), \" finished.\")\n",
    "        "
   ]
  }
 ],
 "metadata": {
  "kernelspec": {
   "display_name": "Python 3",
   "language": "python",
   "name": "python3"
  },
  "language_info": {
   "codemirror_mode": {
    "name": "ipython",
    "version": 3
   },
   "file_extension": ".py",
   "mimetype": "text/x-python",
   "name": "python",
   "nbconvert_exporter": "python",
   "pygments_lexer": "ipython3",
   "version": "3.6.1"
  }
 },
 "nbformat": 4,
 "nbformat_minor": 2
}
